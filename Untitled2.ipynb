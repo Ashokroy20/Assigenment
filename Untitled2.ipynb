{
  "nbformat": 4,
  "nbformat_minor": 0,
  "metadata": {
    "colab": {
      "provenance": [],
      "authorship_tag": "ABX9TyNb/n1Cc8/gkIhRWMom4gC/",
      "include_colab_link": true
    },
    "kernelspec": {
      "name": "python3",
      "display_name": "Python 3"
    },
    "language_info": {
      "name": "python"
    }
  },
  "cells": [
    {
      "cell_type": "markdown",
      "metadata": {
        "id": "view-in-github",
        "colab_type": "text"
      },
      "source": [
        "<a href=\"https://colab.research.google.com/github/Ashokroy20/2048/blob/master/Untitled2.ipynb\" target=\"_parent\"><img src=\"https://colab.research.google.com/assets/colab-badge.svg\" alt=\"Open In Colab\"/></a>"
      ]
    },
    {
      "cell_type": "code",
      "execution_count": null,
      "metadata": {
        "id": "IoLWgw4_5m5b"
      },
      "outputs": [],
      "source": [
        "import numpy as np\n",
        "import pandas as pd\n",
        "from sklearn.model_selection import train_test_split\n",
        "from sklearn.preprocessing import StandardScaler\n",
        "from sklearn.metrics import accuracy_score, confusion_matrix\n",
        "from tensorflow.keras.models import Sequential\n",
        "from tensorflow.keras.layers import Dense, LSTM, Embedding, Flatten\n"
      ]
    },
    {
      "cell_type": "code",
      "source": [
        "import pandas as pd\n",
        "from sklearn.model_selection import train_test_split\n",
        "from sklearn.preprocessing import StandardScaler\n",
        "\n",
        "# Load your dataset\n",
        "dataset = pd.read_csv('Datasets.csv')\n",
        "\n",
        "# Handle missing values (if necessary)\n",
        "dataset.dropna(inplace=True)\n",
        "\n",
        "# Inspect the first few rows of the dataset\n",
        "print(dataset.head())\n",
        "\n",
        "# Check column names in the dataset\n",
        "print(dataset.columns)\n",
        "\n",
        "# Verify 'target' column\n",
        "if 'target' not in dataset.columns:\n",
        "    print(\"Column 'target' not found.\")\n",
        "else:\n",
        "    # Split the data into features and target\n",
        "    X = dataset.drop('target', axis=1)\n",
        "    y = dataset['target']\n",
        "\n",
        "    # Split into training and testing sets\n",
        "    X_train, X_test, y_train, y_test = train_test_split(X, y, test_size=0.2, random_state=42)\n",
        "\n",
        "    # Normalize the data\n",
        "    scaler = StandardScaler()\n",
        "    X_train = scaler.fit_transform(X_train)\n",
        "    X_test = scaler.transform(X_test)\n"
      ],
      "metadata": {
        "colab": {
          "base_uri": "https://localhost:8080/"
        },
        "id": "sIl5utbv5oly",
        "outputId": "b39942d8-7e4f-4bfb-b57d-a5cbca09f170"
      },
      "execution_count": null,
      "outputs": [
        {
          "output_type": "stream",
          "name": "stdout",
          "text": [
            "                                      ID      Sender_IP  Sender_Port  \\\n",
            "0   10.42.0.211-104.97.95.172-59522-80-6  192.168.2.112         2142   \n",
            "1  216.58.217.68-10.42.0.211-443-59345-6  147.32.84.170         2108   \n",
            "2    10.42.0.151-54.192.38.7-52510-443-6  147.32.84.170         3805   \n",
            "3  216.58.219.206-10.42.0.42-443-53294-6  147.32.84.180         3008   \n",
            "4       10.42.0.1-10.42.0.42-53-62597-17  147.32.84.160        11697   \n",
            "\n",
            "         Target_IP  Target_Port  Transport_Protocol  Duration  AvgDuration  \\\n",
            "0   75.126.101.175          443                   1      4.28     6.039028   \n",
            "1    208.100.48.73           22                   1      3.00     1.500000   \n",
            "2   125.14.233.194           22                   1      0.00     1.500000   \n",
            "3  205.188.146.193           25                   1      2.96     2.021923   \n",
            "4   184.173.217.40          443                   1      0.15     0.159373   \n",
            "\n",
            "    PBS      AvgPBS   TBS    PBR       AvgPBR    TBR  Missed_Bytes  \\\n",
            "0  1174  856.833333  1894  11862  27450.72222  12462             0   \n",
            "1     0    0.000000   192      0      0.00000      0             0   \n",
            "2     0    0.000000    96      0      0.00000      0             0   \n",
            "3     0    0.000000    96      0      0.00000      0             0   \n",
            "4     0    0.000000    96      0      0.00000     40             0   \n",
            "\n",
            "   Packets_Sent  Packets_Received      SRPR  class  \n",
            "0            18                15  0.833333      0  \n",
            "1             4                 0  0.000000      1  \n",
            "2             2                 0  0.000000      1  \n",
            "3             2                 0  0.000000      1  \n",
            "4             2                 1  0.500000      1  \n",
            "Index(['ID', 'Sender_IP', 'Sender_Port', 'Target_IP', 'Target_Port',\n",
            "       'Transport_Protocol', 'Duration', 'AvgDuration', 'PBS', 'AvgPBS', 'TBS',\n",
            "       'PBR', 'AvgPBR', 'TBR', 'Missed_Bytes', 'Packets_Sent',\n",
            "       'Packets_Received', 'SRPR', 'class'],\n",
            "      dtype='object')\n",
            "Column 'target' not found.\n"
          ]
        }
      ]
    },
    {
      "cell_type": "code",
      "source": [
        "from tensorflow.keras.models import Sequential\n",
        "from tensorflow.keras.layers import Embedding, LSTM, Flatten, Dense\n",
        "\n",
        "# Assuming you have defined input_dim, output_dim, and input_length\n",
        "input_dim = 1000\n",
        "output_dim = 50\n",
        "input_length = 20\n",
        "\n",
        "# Define the model\n",
        "model = Sequential()\n",
        "model.add(Embedding(input_dim=input_dim, output_dim=output_dim, input_length=input_length))\n",
        "model.add(LSTM(units=100, activation='relu', return_sequences=True))\n",
        "model.add(Flatten())\n",
        "model.add(Dense(units=1, activation='sigmoid'))\n",
        "\n",
        "# Compile the model\n",
        "model.compile(optimizer='adam', loss='binary_crossentropy', metrics=['accuracy'])\n",
        "\n",
        "model = Sequential()\n",
        "model.add(Embedding(input_dim=input_dim, output_dim=output_dim, input_length=input_length))\n",
        "model.add(LSTM(units=100, activation='relu', return_sequences=True))\n",
        "model.add(Flatten())\n",
        "model.add(Dense(units=1, activation='sigmoid'))\n",
        "\n",
        "model.compile(optimizer='adam', loss='binary_crossentropy', metrics=['accuracy'])\n"
      ],
      "metadata": {
        "id": "VsMC8_IB5waE"
      },
      "execution_count": 6,
      "outputs": []
    },
    {
      "cell_type": "code",
      "source": [
        "\n",
        "import pandas as pd\n",
        "import numpy as np\n",
        "import matplotlib.pyplot as plt\n",
        "import scipy\n",
        "from sklearn import linear_model\n",
        "from sklearn.model_selection import train_test_split\n",
        "df = pd.read_csv(\"Datasets.csv\")\n",
        "\n",
        "x_train = np.array(x_train).reshape(len(x_train), -1)\n",
        "x_train.shape\n",
        "y_train= [1,2,3,4,5]\n",
        "x_test = x_test.reshape(-1, 1)\n",
        "x_test.shape\n",
        "\n",
        "linear = linear_model.LinearRegression()\n",
        "\n",
        "linear.fit(x_train, y_train)\n",
        "linear.score(x_train, y_train)\n",
        "\n",
        "print('Coefficient: \\n', linear.coef_)\n",
        "print('Intercept: \\n', linear.intercept_)\n",
        "\n",
        "predicted= linear.predict(x_test)\n"
      ],
      "metadata": {
        "id": "etwSJPAv5zVZ",
        "colab": {
          "base_uri": "https://localhost:8080/",
          "height": 245
        },
        "outputId": "d02c633a-6ee0-4ba2-e3db-93b2e536b837"
      },
      "execution_count": 15,
      "outputs": [
        {
          "output_type": "error",
          "ename": "NameError",
          "evalue": "ignored",
          "traceback": [
            "\u001b[0;31m---------------------------------------------------------------------------\u001b[0m",
            "\u001b[0;31mNameError\u001b[0m                                 Traceback (most recent call last)",
            "\u001b[0;32m<ipython-input-15-e98695ef44af>\u001b[0m in \u001b[0;36m<cell line: 9>\u001b[0;34m()\u001b[0m\n\u001b[1;32m      7\u001b[0m \u001b[0mdf\u001b[0m \u001b[0;34m=\u001b[0m \u001b[0mpd\u001b[0m\u001b[0;34m.\u001b[0m\u001b[0mread_csv\u001b[0m\u001b[0;34m(\u001b[0m\u001b[0;34m\"Datasets.csv\"\u001b[0m\u001b[0;34m)\u001b[0m\u001b[0;34m\u001b[0m\u001b[0;34m\u001b[0m\u001b[0m\n\u001b[1;32m      8\u001b[0m \u001b[0;34m\u001b[0m\u001b[0m\n\u001b[0;32m----> 9\u001b[0;31m \u001b[0mx_train\u001b[0m \u001b[0;34m=\u001b[0m \u001b[0mnp\u001b[0m\u001b[0;34m.\u001b[0m\u001b[0marray\u001b[0m\u001b[0;34m(\u001b[0m\u001b[0mx_train\u001b[0m\u001b[0;34m)\u001b[0m\u001b[0;34m.\u001b[0m\u001b[0mreshape\u001b[0m\u001b[0;34m(\u001b[0m\u001b[0mlen\u001b[0m\u001b[0;34m(\u001b[0m\u001b[0mx_train\u001b[0m\u001b[0;34m)\u001b[0m\u001b[0;34m,\u001b[0m \u001b[0;34m-\u001b[0m\u001b[0;36m1\u001b[0m\u001b[0;34m)\u001b[0m\u001b[0;34m\u001b[0m\u001b[0;34m\u001b[0m\u001b[0m\n\u001b[0m\u001b[1;32m     10\u001b[0m \u001b[0mx_train\u001b[0m\u001b[0;34m.\u001b[0m\u001b[0mshape\u001b[0m\u001b[0;34m\u001b[0m\u001b[0;34m\u001b[0m\u001b[0m\n\u001b[1;32m     11\u001b[0m \u001b[0my_train\u001b[0m\u001b[0;34m=\u001b[0m \u001b[0;34m[\u001b[0m\u001b[0;36m1\u001b[0m\u001b[0;34m,\u001b[0m\u001b[0;36m2\u001b[0m\u001b[0;34m,\u001b[0m\u001b[0;36m3\u001b[0m\u001b[0;34m,\u001b[0m\u001b[0;36m4\u001b[0m\u001b[0;34m,\u001b[0m\u001b[0;36m5\u001b[0m\u001b[0;34m]\u001b[0m\u001b[0;34m\u001b[0m\u001b[0;34m\u001b[0m\u001b[0m\n",
            "\u001b[0;31mNameError\u001b[0m: name 'x_train' is not defined"
          ]
        }
      ]
    },
    {
      "cell_type": "code",
      "source": [
        "y_pred = model.predict(X_test)\n",
        "y_pred_binary = (y_pred > 0.5).astype(int)\n",
        "\n",
        "accuracy = accuracy_score(y_test, y_pred_binary)\n",
        "conf_matrix = confusion_matrix(y_test, y_pred_binary)\n",
        "\n",
        "print(f'Accuracy: {accuracy}')\n",
        "print(f'Confusion Matrix:\\n{conf_matrix}')\n"
      ],
      "metadata": {
        "id": "04Dj9y5O52yg",
        "colab": {
          "base_uri": "https://localhost:8080/",
          "height": 245
        },
        "outputId": "cd36b9e6-be4f-4cee-f2b7-7a3575625ec1"
      },
      "execution_count": 16,
      "outputs": [
        {
          "output_type": "error",
          "ename": "NameError",
          "evalue": "ignored",
          "traceback": [
            "\u001b[0;31m---------------------------------------------------------------------------\u001b[0m",
            "\u001b[0;31mNameError\u001b[0m                                 Traceback (most recent call last)",
            "\u001b[0;32m<ipython-input-16-56e499634e93>\u001b[0m in \u001b[0;36m<cell line: 1>\u001b[0;34m()\u001b[0m\n\u001b[0;32m----> 1\u001b[0;31m \u001b[0my_pred\u001b[0m \u001b[0;34m=\u001b[0m \u001b[0mmodel\u001b[0m\u001b[0;34m.\u001b[0m\u001b[0mpredict\u001b[0m\u001b[0;34m(\u001b[0m\u001b[0mX_test\u001b[0m\u001b[0;34m)\u001b[0m\u001b[0;34m\u001b[0m\u001b[0;34m\u001b[0m\u001b[0m\n\u001b[0m\u001b[1;32m      2\u001b[0m \u001b[0my_pred_binary\u001b[0m \u001b[0;34m=\u001b[0m \u001b[0;34m(\u001b[0m\u001b[0my_pred\u001b[0m \u001b[0;34m>\u001b[0m \u001b[0;36m0.5\u001b[0m\u001b[0;34m)\u001b[0m\u001b[0;34m.\u001b[0m\u001b[0mastype\u001b[0m\u001b[0;34m(\u001b[0m\u001b[0mint\u001b[0m\u001b[0;34m)\u001b[0m\u001b[0;34m\u001b[0m\u001b[0;34m\u001b[0m\u001b[0m\n\u001b[1;32m      3\u001b[0m \u001b[0;34m\u001b[0m\u001b[0m\n\u001b[1;32m      4\u001b[0m \u001b[0maccuracy\u001b[0m \u001b[0;34m=\u001b[0m \u001b[0maccuracy_score\u001b[0m\u001b[0;34m(\u001b[0m\u001b[0my_test\u001b[0m\u001b[0;34m,\u001b[0m \u001b[0my_pred_binary\u001b[0m\u001b[0;34m)\u001b[0m\u001b[0;34m\u001b[0m\u001b[0;34m\u001b[0m\u001b[0m\n\u001b[1;32m      5\u001b[0m \u001b[0mconf_matrix\u001b[0m \u001b[0;34m=\u001b[0m \u001b[0mconfusion_matrix\u001b[0m\u001b[0;34m(\u001b[0m\u001b[0my_test\u001b[0m\u001b[0;34m,\u001b[0m \u001b[0my_pred_binary\u001b[0m\u001b[0;34m)\u001b[0m\u001b[0;34m\u001b[0m\u001b[0;34m\u001b[0m\u001b[0m\n",
            "\u001b[0;31mNameError\u001b[0m: name 'X_test' is not defined"
          ]
        }
      ]
    },
    {
      "cell_type": "markdown",
      "source": [
        "# New Section"
      ],
      "metadata": {
        "id": "aEYBtP0Y58Qx"
      }
    }
  ]
}